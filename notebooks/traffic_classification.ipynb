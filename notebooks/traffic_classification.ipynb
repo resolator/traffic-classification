{
 "cells": [
  {
   "cell_type": "code",
   "execution_count": null,
   "metadata": {},
   "outputs": [],
   "source": [
    "import os\n",
    "import torch\n",
    "\n",
    "import numpy as np\n",
    "import torch.optim as optim\n",
    "import torch.nn.functional as F\n",
    "\n",
    "from torch import nn\n",
    "from tqdm import tqdm"
   ]
  },
  {
   "cell_type": "code",
   "execution_count": null,
   "metadata": {},
   "outputs": [],
   "source": [
    "END_TOKEN = '\\x04'\n",
    "TRAIN_PART = 0.7\n",
    "EPOCHS = 10\n",
    "LR = 1e-3\n",
    "DEVICE = torch.device('cuda:0' if torch.cuda.is_available() else 'cpu')\n",
    "# DEVICE = 'cpu'"
   ]
  },
  {
   "cell_type": "code",
   "execution_count": null,
   "metadata": {},
   "outputs": [],
   "source": [
    "normal_1_path = '../data/normal_train.txt'\n",
    "normal_2_path = '../data/normal_test.txt'\n",
    "abnormal_path = '../data/abnormal_test.txt'\n",
    "\n",
    "with open(normal_1_path) as f:\n",
    "    normal_raw_data = f.readlines()\n",
    "with open(normal_2_path) as f:\n",
    "    normal_raw_data += f.readlines()\n",
    "with open(abnormal_path) as f:\n",
    "    abnormal_raw_data = f.readlines()"
   ]
  },
  {
   "cell_type": "code",
   "execution_count": null,
   "metadata": {},
   "outputs": [],
   "source": [
    "tokens = set(''.join(normal_raw_data) + ''.join(abnormal_raw_data))\n",
    "print(len(tokens))\n",
    "tokens.add(END_TOKEN)\n",
    "print(len(tokens))\n",
    "print(tokens)"
   ]
  },
  {
   "cell_type": "code",
   "execution_count": null,
   "metadata": {},
   "outputs": [],
   "source": [
    "int2char = dict(enumerate(tokens))\n",
    "char2int = {char: idx for idx, char in int2char.items()}"
   ]
  },
  {
   "cell_type": "code",
   "execution_count": null,
   "metadata": {},
   "outputs": [],
   "source": [
    "normal_samples, abnormal_samples = [], []\n",
    "\n",
    "start_idx = 0\n",
    "for idx, line in enumerate(normal_raw_data):\n",
    "    if line == 'Connection: close\\n':\n",
    "        if normal_raw_data[idx + 1] != '\\n':\n",
    "            sample_as_chars = ''.join(normal_raw_data[start_idx:idx + 4]) + END_TOKEN\n",
    "            start_idx = idx + 5\n",
    "        else:\n",
    "            sample_as_chars = ''.join(normal_raw_data[start_idx:idx + 1]) + END_TOKEN\n",
    "            start_idx = idx + 3\n",
    "        \n",
    "        # convert from text to nums\n",
    "        sample_as_nums = np.array([char2int[char] for char in sample_as_chars])\n",
    "        normal_samples.append(sample_as_nums)\n",
    "\n",
    "start_idx = 0 \n",
    "for idx, line in enumerate(abnormal_raw_data):\n",
    "    if line == 'Connection: close\\n':\n",
    "        if abnormal_raw_data[idx + 1] != '\\n':\n",
    "            sample_as_chars = ''.join(abnormal_raw_data[start_idx:idx + 4]) + END_TOKEN\n",
    "            start_idx = idx + 5\n",
    "        else:\n",
    "            sample_as_chars = ''.join(abnormal_raw_data[start_idx:idx + 1]) + END_TOKEN\n",
    "            start_idx = idx + 3\n",
    "        \n",
    "        # convert form text to nums\n",
    "        sample_as_nums = np.array([char2int[char] for char in sample_as_chars])\n",
    "        abnormal_samples.append(sample_as_nums)\n",
    "\n",
    "print(len(normal_samples))  # must be 72000\n",
    "print(len(abnormal_samples))  # must be 25065"
   ]
  },
  {
   "cell_type": "code",
   "execution_count": null,
   "metadata": {},
   "outputs": [],
   "source": [
    "samples = normal_samples + abnormal_samples\n",
    "labels = np.hstack([np.zeros(len(normal_samples)), np.ones(len(abnormal_samples))])\n",
    "\n",
    "print(len(samples))\n",
    "print(len(labels))"
   ]
  },
  {
   "cell_type": "code",
   "execution_count": null,
   "metadata": {},
   "outputs": [],
   "source": [
    "train_indices = []\n",
    "test_indices = []\n",
    "\n",
    "for i in np.arange(len(samples)):\n",
    "    if np.random.uniform() < TRAIN_PART:\n",
    "        train_indices.append(i)\n",
    "    else:\n",
    "        test_indices.append(i)\n",
    "\n",
    "train_indices = np.array(train_indices)\n",
    "test_indices = np.array(test_indices)"
   ]
  },
  {
   "cell_type": "code",
   "execution_count": null,
   "metadata": {},
   "outputs": [],
   "source": [
    "def sample2one_hot(sample, size):\n",
    "    \"\"\"\n",
    "    Convert the array of number to one hot vector view.\n",
    "    \n",
    "    :param sample: Array of ints.\n",
    "    :param size: Number of unique nums.\n",
    "    :return: 2D-array.\n",
    "    \"\"\"\n",
    "    one_hot = np.zeros((len(sample), size), dtype=int)\n",
    "    one_hot[np.arange(len(sample)), sample] = 1\n",
    "    return one_hot"
   ]
  },
  {
   "cell_type": "code",
   "execution_count": null,
   "metadata": {},
   "outputs": [],
   "source": [
    "class TrafficRNN(nn.Module):\n",
    "    def __init__(self, tokens, n_hidden=512, n_layers=3):\n",
    "        super().__init__()\n",
    "        self.tokens = tokens\n",
    "        self.n_hidden = n_hidden\n",
    "        self.n_layers = n_layers\n",
    "\n",
    "        self.int2char = dict(enumerate(tokens))\n",
    "        self.char2int = {char: idx for idx, char in int2char.items()}\n",
    "        self.lstm = nn.LSTM(input_size=len(tokens),\n",
    "                            hidden_size=n_hidden,\n",
    "                            num_layers=n_layers,\n",
    "                            batch_first=True)\n",
    "        self.fc = nn.Linear(n_hidden, 1)\n",
    "        self.sigmoid = nn.Sigmoid()\n",
    "        \n",
    "        self.h = torch.zeros((n_layers, 1, n_hidden), dtype=torch.float).to(DEVICE)\n",
    "        self.c = torch.zeros((n_layers, 1, n_hidden), dtype=torch.float).to(DEVICE)\n",
    "        \n",
    "    def forward(self, x):\n",
    "        print(x.shape)\n",
    "        r_output, (self.h, self.c) = self.lstm(x, (self.h, self.c))\n",
    "        print(r_output.shape)\n",
    "        \n",
    "        out = r_output[0, -1, :] \n",
    "        print(out.shape)\n",
    "        \n",
    "        out = self.fc(out)\n",
    "        print(out.shape)\n",
    "\n",
    "        out = self.sigmoid(out)\n",
    "        print(out.shape)\n",
    "        \n",
    "        self.h = torch.zeros((self.n_layers, 1, self.n_hidden), dtype=torch.float).to(DEVICE)\n",
    "        self.c = torch.zeros((self.n_layers, 1, self.n_hidden), dtype=torch.float).to(DEVICE)\n",
    "        \n",
    "        return out\n",
    "\n",
    "model = TrafficRNN(tokens)\n",
    "criterion = nn.BCELoss()\n",
    "optimizer = optim.Adam(model.parameters(), lr=LR)\n",
    "\n",
    "model.to(DEVICE)"
   ]
  },
  {
   "cell_type": "code",
   "execution_count": null,
   "metadata": {},
   "outputs": [],
   "source": [
    "for ep in np.arange(EPOCHS):\n",
    "    # train\n",
    "    np.random.shuffle(train_indices)\n",
    "    model.train()\n",
    "    for i in tqdm(train_indices):\n",
    "        optimizer.zero_grad()\n",
    "\n",
    "        sample = (sample2one_hot(samples[0], len(tokens))[np.newaxis, :]).astype(np.float32)\n",
    "        sample = torch.from_numpy(sample).to(DEVICE)\n",
    "\n",
    "        #label = torch.from_numpy(np.array([labels[i]]))\n",
    "        #label = label.to(DEVICE)\n",
    "\n",
    "        outputs = model(sample)\n",
    "        \n",
    "        \n",
    "        \n",
    "        break\n",
    "        "
   ]
  },
  {
   "cell_type": "code",
   "execution_count": null,
   "metadata": {},
   "outputs": [],
   "source": []
  }
 ],
 "metadata": {
  "kernelspec": {
   "display_name": "Python 3",
   "language": "python",
   "name": "python3"
  },
  "language_info": {
   "codemirror_mode": {
    "name": "ipython",
    "version": 3
   },
   "file_extension": ".py",
   "mimetype": "text/x-python",
   "name": "python",
   "nbconvert_exporter": "python",
   "pygments_lexer": "ipython3",
   "version": "3.6.7"
  }
 },
 "nbformat": 4,
 "nbformat_minor": 2
}
