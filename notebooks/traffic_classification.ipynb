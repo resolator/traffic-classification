{
 "cells": [
  {
   "cell_type": "code",
   "execution_count": 1,
   "metadata": {},
   "outputs": [],
   "source": [
    "import os\n",
    "import torch\n",
    "\n",
    "import numpy as np\n",
    "import torch.optim as optim\n",
    "import torch.nn.functional as F\n",
    "\n",
    "from torch import nn\n",
    "from tqdm import tqdm"
   ]
  },
  {
   "cell_type": "code",
   "execution_count": 2,
   "metadata": {},
   "outputs": [
    {
     "name": "stdout",
     "output_type": "stream",
     "text": [
      "cuda:0\n"
     ]
    }
   ],
   "source": [
    "END_TOKEN = '\\x04'\n",
    "TRAIN_PART = 0.7\n",
    "EPOCHS = 10\n",
    "LR = 1e-3\n",
    "TH = 0.5\n",
    "DEVICE = torch.device('cuda:0' if torch.cuda.is_available() else 'cpu')\n",
    "# DEVICE = 'cpu'\n",
    "print(DEVICE)"
   ]
  },
  {
   "cell_type": "code",
   "execution_count": 3,
   "metadata": {},
   "outputs": [],
   "source": [
    "normal_1_path = '../data/normal_train.txt'\n",
    "normal_2_path = '../data/normal_test.txt'\n",
    "abnormal_path = '../data/abnormal_test.txt'\n",
    "\n",
    "with open(normal_1_path) as f:\n",
    "    normal_raw_data = f.readlines()\n",
    "with open(normal_2_path) as f:\n",
    "    normal_raw_data += f.readlines()\n",
    "with open(abnormal_path) as f:\n",
    "    abnormal_raw_data = f.readlines()"
   ]
  },
  {
   "cell_type": "code",
   "execution_count": 4,
   "metadata": {},
   "outputs": [
    {
     "name": "stdout",
     "output_type": "stream",
     "text": [
      "80\n",
      "81\n",
      "{'V', '1', ')', '~', 'r', 'z', 'I', ';', '&', 'J', 'j', '+', 'i', 'w', 'o', '7', 'h', '4', 'n', '=', '2', 'O', 'c', 'e', 't', 'x', 'q', 'U', 'R', '%', 'C', 'S', 'A', '6', '.', ':', 'd', 'E', '5', 'W', '8', 'F', 'N', 'B', '?', ',', '_', 'v', ' ', '0', 'l', '/', 'P', 'm', 'X', 'M', '3', 'H', 'G', '9', 'u', '\\n', 'K', 'L', 'b', '-', 'Y', 'Q', '*', 'a', 'y', 'D', 'g', 'T', 'p', 's', 'Z', '(', 'k', 'f', '\\x04'}\n"
     ]
    }
   ],
   "source": [
    "tokens = set(''.join(normal_raw_data) + ''.join(abnormal_raw_data))\n",
    "print(len(tokens))\n",
    "tokens.add(END_TOKEN)\n",
    "print(len(tokens))\n",
    "print(tokens)"
   ]
  },
  {
   "cell_type": "code",
   "execution_count": 5,
   "metadata": {},
   "outputs": [],
   "source": [
    "int2char = dict(enumerate(tokens))\n",
    "char2int = {char: idx for idx, char in int2char.items()}"
   ]
  },
  {
   "cell_type": "code",
   "execution_count": 6,
   "metadata": {},
   "outputs": [
    {
     "name": "stdout",
     "output_type": "stream",
     "text": [
      "72000\n",
      "25065\n"
     ]
    }
   ],
   "source": [
    "normal_samples, abnormal_samples = [], []\n",
    "\n",
    "start_idx = 0\n",
    "for idx, line in enumerate(normal_raw_data):\n",
    "    if line == 'Connection: close\\n':\n",
    "        if normal_raw_data[idx + 1] != '\\n':\n",
    "            sample_as_chars = ''.join(normal_raw_data[start_idx:idx + 4]) + END_TOKEN\n",
    "            start_idx = idx + 5\n",
    "        else:\n",
    "            sample_as_chars = ''.join(normal_raw_data[start_idx:idx + 1]) + END_TOKEN\n",
    "            start_idx = idx + 3\n",
    "        \n",
    "        # convert from text to nums\n",
    "        sample_as_nums = np.array([char2int[char] for char in sample_as_chars])\n",
    "        normal_samples.append(sample_as_nums)\n",
    "\n",
    "start_idx = 0 \n",
    "for idx, line in enumerate(abnormal_raw_data):\n",
    "    if line == 'Connection: close\\n':\n",
    "        if abnormal_raw_data[idx + 1] != '\\n':\n",
    "            sample_as_chars = ''.join(abnormal_raw_data[start_idx:idx + 4]) + END_TOKEN\n",
    "            start_idx = idx + 5\n",
    "        else:\n",
    "            sample_as_chars = ''.join(abnormal_raw_data[start_idx:idx + 1]) + END_TOKEN\n",
    "            start_idx = idx + 3\n",
    "        \n",
    "        # convert form text to nums\n",
    "        sample_as_nums = np.array([char2int[char] for char in sample_as_chars])\n",
    "        abnormal_samples.append(sample_as_nums)\n",
    "\n",
    "print(len(normal_samples))  # must be 72000\n",
    "print(len(abnormal_samples))  # must be 25065"
   ]
  },
  {
   "cell_type": "code",
   "execution_count": 7,
   "metadata": {},
   "outputs": [
    {
     "name": "stdout",
     "output_type": "stream",
     "text": [
      "97065\n",
      "97065\n"
     ]
    }
   ],
   "source": [
    "samples = normal_samples + abnormal_samples\n",
    "labels = np.hstack([np.zeros(len(normal_samples)), np.ones(len(abnormal_samples))])\n",
    "\n",
    "print(len(samples))\n",
    "print(len(labels))"
   ]
  },
  {
   "cell_type": "code",
   "execution_count": 8,
   "metadata": {},
   "outputs": [],
   "source": [
    "train_indices = []\n",
    "test_indices = []\n",
    "\n",
    "for i in np.arange(len(samples)):\n",
    "    if np.random.uniform() < TRAIN_PART:\n",
    "        train_indices.append(i)\n",
    "    else:\n",
    "        test_indices.append(i)\n",
    "\n",
    "train_indices = np.array(train_indices)\n",
    "test_indices = np.array(test_indices)"
   ]
  },
  {
   "cell_type": "code",
   "execution_count": 9,
   "metadata": {},
   "outputs": [],
   "source": [
    "def sample2one_hot(sample, size):\n",
    "    \"\"\"\n",
    "    Convert the array of number to one hot vector view.\n",
    "    \n",
    "    :param sample: Array of ints.\n",
    "    :param size: Number of unique nums.\n",
    "    :return: 2D-array.\n",
    "    \"\"\"\n",
    "    one_hot = np.zeros((len(sample), size), dtype=int)\n",
    "    one_hot[np.arange(len(sample)), sample] = 1\n",
    "    return one_hot"
   ]
  },
  {
   "cell_type": "code",
   "execution_count": 10,
   "metadata": {},
   "outputs": [
    {
     "data": {
      "text/plain": [
       "TrafficRNN(\n",
       "  (lstm): LSTM(81, 128, batch_first=True)\n",
       "  (fc): Linear(in_features=128, out_features=1, bias=True)\n",
       "  (sigmoid): Sigmoid()\n",
       ")"
      ]
     },
     "execution_count": 10,
     "metadata": {},
     "output_type": "execute_result"
    }
   ],
   "source": [
    "class TrafficRNN(nn.Module):\n",
    "    def __init__(self, tokens, n_hidden=128, n_layers=1):\n",
    "        super().__init__()\n",
    "        self.tokens = tokens\n",
    "        self.n_hidden = n_hidden\n",
    "        self.n_layers = n_layers\n",
    "\n",
    "        self.int2char = dict(enumerate(tokens))\n",
    "        self.char2int = {char: idx for idx, char in int2char.items()}\n",
    "        self.lstm = nn.LSTM(input_size=len(tokens),\n",
    "                            hidden_size=n_hidden,\n",
    "                            num_layers=n_layers,\n",
    "                            batch_first=True)\n",
    "        self.fc = nn.Linear(n_hidden, 1)\n",
    "        self.sigmoid = nn.Sigmoid()\n",
    "        \n",
    "        self.h = torch.zeros((n_layers, 1, n_hidden), dtype=torch.float).to(DEVICE)\n",
    "        self.c = torch.zeros((n_layers, 1, n_hidden), dtype=torch.float).to(DEVICE)\n",
    "        \n",
    "    def forward(self, x):\n",
    "        r_output, (self.h, self.c) = self.lstm(x, (self.h, self.c))\n",
    "        \n",
    "        out = r_output[0, -1, :] \n",
    "        \n",
    "        out = self.fc(out)\n",
    "\n",
    "        out = self.sigmoid(out)\n",
    "        \n",
    "        self.h = torch.zeros((self.n_layers, 1, self.n_hidden), dtype=torch.float).to(DEVICE)\n",
    "        self.c = torch.zeros((self.n_layers, 1, self.n_hidden), dtype=torch.float).to(DEVICE)\n",
    "        \n",
    "        return out\n",
    "\n",
    "model = TrafficRNN(tokens)\n",
    "criterion = nn.BCELoss()\n",
    "optimizer = optim.Adam(model.parameters(), lr=LR)\n",
    "\n",
    "model.to(DEVICE)"
   ]
  },
  {
   "cell_type": "code",
   "execution_count": 12,
   "metadata": {
    "scrolled": false
   },
   "outputs": [
    {
     "name": "stderr",
     "output_type": "stream",
     "text": [
      "100%|████████████████████████████████████████████████████████████████████████████| 67974/67974 [26:50<00:00, 41.11it/s]\n"
     ]
    },
    {
     "name": "stdout",
     "output_type": "stream",
     "text": [
      "Train loss: 0.5253691067119441\n",
      "Train acc: 0.7652926118810133\n"
     ]
    },
    {
     "name": "stderr",
     "output_type": "stream",
     "text": [
      "100%|████████████████████████████████████████████████████████████████████████████| 29091/29091 [05:35<00:00, 86.73it/s]\n"
     ]
    },
    {
     "name": "stdout",
     "output_type": "stream",
     "text": [
      "Test loss: 0.47501169470806054\n",
      "Test acc: 0.8069506032793647\n"
     ]
    },
    {
     "name": "stderr",
     "output_type": "stream",
     "text": [
      "100%|████████████████████████████████████████████████████████████████████████████| 67974/67974 [26:44<00:00, 42.36it/s]\n"
     ]
    },
    {
     "name": "stdout",
     "output_type": "stream",
     "text": [
      "Train loss: 0.5017537831217956\n",
      "Train acc: 0.7854473769382411\n"
     ]
    },
    {
     "name": "stderr",
     "output_type": "stream",
     "text": [
      "100%|████████████████████████████████████████████████████████████████████████████| 29091/29091 [05:34<00:00, 86.94it/s]\n"
     ]
    },
    {
     "name": "stdout",
     "output_type": "stream",
     "text": [
      "Test loss: 0.5031334791955766\n",
      "Test acc: 0.7973600082499742\n"
     ]
    },
    {
     "name": "stderr",
     "output_type": "stream",
     "text": [
      "100%|████████████████████████████████████████████████████████████████████████████| 67974/67974 [26:47<00:00, 42.28it/s]\n"
     ]
    },
    {
     "name": "stdout",
     "output_type": "stream",
     "text": [
      "Train loss: 0.2614541349045705\n",
      "Train acc: 0.901241651219584\n"
     ]
    },
    {
     "name": "stderr",
     "output_type": "stream",
     "text": [
      "100%|████████████████████████████████████████████████████████████████████████████| 29091/29091 [05:34<00:00, 82.37it/s]\n"
     ]
    },
    {
     "name": "stdout",
     "output_type": "stream",
     "text": [
      "Test loss: 0.04777140833373064\n",
      "Test acc: 0.9851156715135265\n"
     ]
    },
    {
     "name": "stderr",
     "output_type": "stream",
     "text": [
      "100%|████████████████████████████████████████████████████████████████████████████| 67974/67974 [26:58<00:00, 40.51it/s]\n"
     ]
    },
    {
     "name": "stdout",
     "output_type": "stream",
     "text": [
      "Train loss: 0.04021682767886484\n",
      "Train acc: 0.9886868508547386\n"
     ]
    },
    {
     "name": "stderr",
     "output_type": "stream",
     "text": [
      "100%|████████████████████████████████████████████████████████████████████████████| 29091/29091 [05:34<00:00, 86.93it/s]\n"
     ]
    },
    {
     "name": "stdout",
     "output_type": "stream",
     "text": [
      "Test loss: 0.03044730303962651\n",
      "Test acc: 0.9916812759960125\n"
     ]
    },
    {
     "name": "stderr",
     "output_type": "stream",
     "text": [
      "100%|████████████████████████████████████████████████████████████████████████████| 67974/67974 [26:50<00:00, 42.19it/s]\n"
     ]
    },
    {
     "name": "stdout",
     "output_type": "stream",
     "text": [
      "Train loss: 0.02967481574451139\n",
      "Train acc: 0.9921440550798835\n"
     ]
    },
    {
     "name": "stderr",
     "output_type": "stream",
     "text": [
      "100%|████████████████████████████████████████████████████████████████████████████| 29091/29091 [05:34<00:00, 86.95it/s]\n"
     ]
    },
    {
     "name": "stdout",
     "output_type": "stream",
     "text": [
      "Test loss: 0.027950393021996204\n",
      "Test acc: 0.9930906465917294\n"
     ]
    },
    {
     "name": "stderr",
     "output_type": "stream",
     "text": [
      "100%|████████████████████████████████████████████████████████████████████████████| 67974/67974 [27:02<00:00, 41.89it/s]\n"
     ]
    },
    {
     "name": "stdout",
     "output_type": "stream",
     "text": [
      "Train loss: 0.0914470885708789\n",
      "Train acc: 0.9700767940683203\n"
     ]
    },
    {
     "name": "stderr",
     "output_type": "stream",
     "text": [
      "100%|████████████████████████████████████████████████████████████████████████████| 29091/29091 [05:34<00:00, 86.95it/s]\n"
     ]
    },
    {
     "name": "stdout",
     "output_type": "stream",
     "text": [
      "Test loss: 0.022170421756764667\n",
      "Test acc: 0.9936750197655633\n"
     ]
    },
    {
     "name": "stderr",
     "output_type": "stream",
     "text": [
      "100%|████████████████████████████████████████████████████████████████████████████| 67974/67974 [26:59<00:00, 41.98it/s]\n"
     ]
    },
    {
     "name": "stdout",
     "output_type": "stream",
     "text": [
      "Train loss: 0.01983095460267925\n",
      "Train acc: 0.9950127990113867\n"
     ]
    },
    {
     "name": "stderr",
     "output_type": "stream",
     "text": [
      "100%|████████████████████████████████████████████████████████████████████████████| 29091/29091 [05:34<00:00, 86.91it/s]\n"
     ]
    },
    {
     "name": "stdout",
     "output_type": "stream",
     "text": [
      "Test loss: 0.016158768070071477\n",
      "Test acc: 0.9961156371386339\n"
     ]
    },
    {
     "name": "stderr",
     "output_type": "stream",
     "text": [
      "100%|████████████████████████████████████████████████████████████████████████████| 67974/67974 [26:56<00:00, 42.04it/s]\n"
     ]
    },
    {
     "name": "stdout",
     "output_type": "stream",
     "text": [
      "Train loss: 0.038788355369756174\n",
      "Train acc: 0.9861270485773972\n"
     ]
    },
    {
     "name": "stderr",
     "output_type": "stream",
     "text": [
      "100%|████████████████████████████████████████████████████████████████████████████| 29091/29091 [05:34<00:00, 86.96it/s]\n"
     ]
    },
    {
     "name": "stdout",
     "output_type": "stream",
     "text": [
      "Test loss: 0.02309484223323164\n",
      "Test acc: 0.9935375201952494\n"
     ]
    },
    {
     "name": "stderr",
     "output_type": "stream",
     "text": [
      "100%|████████████████████████████████████████████████████████████████████████████| 67974/67974 [27:01<00:00, 41.93it/s]\n"
     ]
    },
    {
     "name": "stdout",
     "output_type": "stream",
     "text": [
      "Train loss: 0.016352763060085658\n",
      "Train acc: 0.9960278930179186\n"
     ]
    },
    {
     "name": "stderr",
     "output_type": "stream",
     "text": [
      "100%|████████████████████████████████████████████████████████████████████████████| 29091/29091 [05:34<00:00, 82.44it/s]\n"
     ]
    },
    {
     "name": "stdout",
     "output_type": "stream",
     "text": [
      "Test loss: 0.01576615210237359\n",
      "Test acc: 0.9963562613866832\n"
     ]
    },
    {
     "name": "stderr",
     "output_type": "stream",
     "text": [
      "100%|████████████████████████████████████████████████████████████████████████████| 67974/67974 [26:58<00:00, 42.01it/s]\n"
     ]
    },
    {
     "name": "stdout",
     "output_type": "stream",
     "text": [
      "Train loss: 0.020291787594423853\n",
      "Train acc: 0.9959984700032365\n"
     ]
    },
    {
     "name": "stderr",
     "output_type": "stream",
     "text": [
      "100%|████████████████████████████████████████████████████████████████████████████| 29091/29091 [05:34<00:00, 86.95it/s]\n"
     ]
    },
    {
     "name": "stdout",
     "output_type": "stream",
     "text": [
      "Test loss: 0.01852947968484151\n",
      "Test acc: 0.9958406379980063\n"
     ]
    }
   ],
   "source": [
    "for ep in np.arange(EPOCHS):\n",
    "    # train\n",
    "    np.random.shuffle(train_indices)\n",
    "    model.train()\n",
    "    running_loss = 0.0\n",
    "    correct = 0\n",
    "    for i in tqdm(train_indices):\n",
    "        optimizer.zero_grad()\n",
    "\n",
    "        sample = (sample2one_hot(samples[i], len(tokens))[np.newaxis, :]).astype(np.float32)\n",
    "        sample = torch.from_numpy(sample).to(DEVICE)\n",
    "        outputs = model(sample)\n",
    "        \n",
    "        predict = 1 if outputs.cpu().detach().numpy()[0] > TH else 0\n",
    "        label = np.array([labels[i]])\n",
    "        if (predict == label[0]):\n",
    "            correct += 1\n",
    "\n",
    "        label = torch.from_numpy(label.astype(np.float32)).to(DEVICE)\n",
    "        loss = criterion(outputs, label)\n",
    "        running_loss += loss.item()\n",
    "        \n",
    "        loss.backward()\n",
    "        optimizer.step()\n",
    "    print('Train loss:', running_loss / len(train_indices))\n",
    "    print('Train acc:', correct / len(train_indices))\n",
    "\n",
    "    with torch.no_grad():\n",
    "        model.eval()\n",
    "        running_loss = 0.0\n",
    "        correct = 0\n",
    "        for i in tqdm(test_indices):\n",
    "            sample = (sample2one_hot(samples[i], len(tokens))[np.newaxis, :]).astype(np.float32)\n",
    "            sample = torch.from_numpy(sample).to(DEVICE)\n",
    "            outputs = model(sample)\n",
    "\n",
    "            predict = 1 if outputs.cpu().detach().numpy()[0] > TH else 0\n",
    "            label = np.array([labels[i]])\n",
    "            if (predict == label[0]):\n",
    "                correct += 1\n",
    "\n",
    "            label = torch.from_numpy(label.astype(np.float32)).to(DEVICE)\n",
    "            loss = criterion(outputs, label)\n",
    "            running_loss += loss.item()\n",
    "\n",
    "        print('Test loss:', running_loss / len(test_indices))\n",
    "        print('Test acc:', correct / len(test_indices))"
   ]
  },
  {
   "cell_type": "code",
   "execution_count": null,
   "metadata": {},
   "outputs": [],
   "source": []
  }
 ],
 "metadata": {
  "kernelspec": {
   "display_name": "Python 3",
   "language": "python",
   "name": "python3"
  },
  "language_info": {
   "codemirror_mode": {
    "name": "ipython",
    "version": 3
   },
   "file_extension": ".py",
   "mimetype": "text/x-python",
   "name": "python",
   "nbconvert_exporter": "python",
   "pygments_lexer": "ipython3",
   "version": "3.7.3"
  }
 },
 "nbformat": 4,
 "nbformat_minor": 2
}
