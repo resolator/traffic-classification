{
 "cells": [
  {
   "cell_type": "code",
   "execution_count": 70,
   "metadata": {},
   "outputs": [],
   "source": [
    "import os"
   ]
  },
  {
   "cell_type": "code",
   "execution_count": 71,
   "metadata": {},
   "outputs": [],
   "source": [
    "normal_1_path = '../data/normal_train.txt'\n",
    "normal_2_path = '../data/normal_test.txt'\n",
    "abnormal_path = '../data/abnormal_test.txt'\n",
    "\n",
    "with open(normal_1_path) as f:\n",
    "    normal_raw_data = f.readlines()\n",
    "with open(normal_2_path) as f:\n",
    "    normal_raw_data += f.readlines()\n",
    "with open(abnormal_path) as f:\n",
    "    abnormal_raw_data = f.readlines()"
   ]
  },
  {
   "cell_type": "code",
   "execution_count": 76,
   "metadata": {},
   "outputs": [
    {
     "name": "stdout",
     "output_type": "stream",
     "text": [
      "80\n",
      "{'E', '8', ')', 'O', '/', 'K', 'J', 'q', 'm', 'k', '?', '7', 'L', 'n', 'S', 'A', 'M', ';', '2', 'e', 'y', 'H', 'a', 'V', 'w', 'v', 'U', '0', 'G', 'c', 'C', '=', ',', '3', 'N', '%', 'Z', 'Q', 't', 'P', '5', 'h', ':', 'j', 'g', 'l', '-', 'b', '*', 's', '.', 'F', '(', '&', '\\n', 'W', 'D', 'o', 'd', '4', 'x', 'I', 'X', 'u', '_', 'r', 'z', 'Y', 'T', '6', '9', ' ', 'p', '1', 'B', 'R', '~', 'f', '+', 'i'}\n"
     ]
    }
   ],
   "source": [
    "bag_of_chars = set(''.join(normal_raw_data) + ''.join(abnormal_raw_data))\n",
    "print(len(bag_of_chars))\n",
    "print(bag_of_chars)"
   ]
  },
  {
   "cell_type": "code",
   "execution_count": 73,
   "metadata": {},
   "outputs": [
    {
     "name": "stdout",
     "output_type": "stream",
     "text": [
      "72000\n",
      "25065\n"
     ]
    }
   ],
   "source": [
    "normal_samples, abnormal_samples = [], []\n",
    "\n",
    "start_idx = 0\n",
    "for idx, line in enumerate(normal_raw_data):\n",
    "    if line == 'Connection: close\\n':\n",
    "        if normal_raw_data[idx + 1] != '\\n':\n",
    "            normal_samples.append(''.join(normal_raw_data[start_idx:idx + 4]))\n",
    "            start_idx = idx + 5\n",
    "        else:\n",
    "            normal_samples.append(''.join(normal_raw_data[start_idx:idx + 1]))\n",
    "            start_idx = idx + 3\n",
    "            \n",
    "start_idx = 0 \n",
    "for idx, line in enumerate(abnormal_raw_data):\n",
    "    if line == 'Connection: close\\n':\n",
    "        if abnormal_raw_data[idx + 1] != '\\n':\n",
    "            abnormal_samples.append(''.join(abnormal_raw_data[start_idx:idx + 4]))\n",
    "            start_idx = idx + 5\n",
    "        else:\n",
    "            abnormal_samples.append(''.join(abnormal_raw_data[start_idx:idx + 1]))\n",
    "            start_idx = idx + 3\n",
    "\n",
    "print(len(normal_samples))  # must be 72000\n",
    "print(len(abnormal_samples))  # must be 25065"
   ]
  },
  {
   "cell_type": "code",
   "execution_count": 74,
   "metadata": {
    "scrolled": false
   },
   "outputs": [
    {
     "name": "stdout",
     "output_type": "stream",
     "text": [
      "GET http://localhost:8080/tienda1/publico/anadir.jsp?id=3&nombre=Vino+Rioja&precio=100&cantidad=55&B1=A%F1adir+al+carrito HTTP/1.1\n",
      "User-Agent: Mozilla/5.0 (compatible; Konqueror/3.5; Linux) KHTML/3.5.8 (like Gecko)\n",
      "Pragma: no-cache\n",
      "Cache-control: no-cache\n",
      "Accept: text/xml,application/xml,application/xhtml+xml,text/html;q=0.9,text/plain;q=0.8,image/png,*/*;q=0.5\n",
      "Accept-Encoding: x-gzip, x-deflate, gzip, deflate\n",
      "Accept-Charset: utf-8, utf-8;q=0.5, *;q=0.5\n",
      "Accept-Language: en\n",
      "Host: localhost:8080\n",
      "Cookie: JSESSIONID=81761ACA043B0E6014CA42A4BCD06AB5\n",
      "Connection: close\n",
      "============================================================\n",
      "POST http://localhost:8080/tienda1/publico/anadir.jsp HTTP/1.1\n",
      "User-Agent: Mozilla/5.0 (compatible; Konqueror/3.5; Linux) KHTML/3.5.8 (like Gecko)\n",
      "Pragma: no-cache\n",
      "Cache-control: no-cache\n",
      "Accept: text/xml,application/xml,application/xhtml+xml,text/html;q=0.9,text/plain;q=0.8,image/png,*/*;q=0.5\n",
      "Accept-Encoding: x-gzip, x-deflate, gzip, deflate\n",
      "Accept-Charset: utf-8, utf-8;q=0.5, *;q=0.5\n",
      "Accept-Language: en\n",
      "Host: localhost:8080\n",
      "Cookie: JSESSIONID=933185092E0B668B90676E0A2B0767AF\n",
      "Content-Type: application/x-www-form-urlencoded\n",
      "Connection: close\n",
      "Content-Length: 68\n",
      "\n",
      "id=3&nombre=Vino+Rioja&precio=100&cantidad=55&B1=A%F1adir+al+carrito\n",
      "============================================================\n",
      "GET http://localhost:8080/tienda1/publico/autenticar.jsp?modo=entrar&login=choong&pwd=d1se3ci%F3n&remember=off&B1=Entrar HTTP/1.1\n",
      "User-Agent: Mozilla/5.0 (compatible; Konqueror/3.5; Linux) KHTML/3.5.8 (like Gecko)\n",
      "Pragma: no-cache\n",
      "Cache-control: no-cache\n",
      "Accept: text/xml,application/xml,application/xhtml+xml,text/html;q=0.9,text/plain;q=0.8,image/png,*/*;q=0.5\n",
      "Accept-Encoding: x-gzip, x-deflate, gzip, deflate\n",
      "Accept-Charset: utf-8, utf-8;q=0.5, *;q=0.5\n",
      "Accept-Language: en\n",
      "Host: localhost:8080\n",
      "Cookie: JSESSIONID=8FA18BA82C5336D03D3A8AFA3E68CBB0\n",
      "Connection: close\n"
     ]
    }
   ],
   "source": [
    "print(normal_samples[1], end='')\n",
    "print('=' * 60)\n",
    "print(normal_samples[2], end='')\n",
    "print('=' * 60)\n",
    "print(normal_samples[3], end='')"
   ]
  },
  {
   "cell_type": "code",
   "execution_count": 75,
   "metadata": {},
   "outputs": [
    {
     "name": "stdout",
     "output_type": "stream",
     "text": [
      "POST http://localhost:8080/tienda1/publico/anadir.jsp HTTP/1.1\n",
      "User-Agent: Mozilla/5.0 (compatible; Konqueror/3.5; Linux) KHTML/3.5.8 (like Gecko)\n",
      "Pragma: no-cache\n",
      "Cache-control: no-cache\n",
      "Accept: text/xml,application/xml,application/xhtml+xml,text/html;q=0.9,text/plain;q=0.8,image/png,*/*;q=0.5\n",
      "Accept-Encoding: x-gzip, x-deflate, gzip, deflate\n",
      "Accept-Charset: utf-8, utf-8;q=0.5, *;q=0.5\n",
      "Accept-Language: en\n",
      "Host: localhost:8080\n",
      "Cookie: JSESSIONID=AE29AEEBDE479D5E1A18B4108C8E3CE0\n",
      "Content-Type: application/x-www-form-urlencoded\n",
      "Connection: close\n",
      "Content-Length: 146\n",
      "\n",
      "id=2&nombre=Jam%F3n+Ib%E9rico&precio=85&cantidad=%27%3B+DROP+TABLE+usuarios%3B+SELECT+*+FROM+datos+WHERE+nombre+LIKE+%27%25&B1=A%F1adir+al+carrito\n",
      "============================================================\n",
      "GET http://localhost:8080/tienda1/publico/anadir.jsp?id=2%2F&nombre=Jam%F3n+Ib%E9rico&precio=85&cantidad=49&B1=A%F1adir+al+carrito HTTP/1.1\n",
      "User-Agent: Mozilla/5.0 (compatible; Konqueror/3.5; Linux) KHTML/3.5.8 (like Gecko)\n",
      "Pragma: no-cache\n",
      "Cache-control: no-cache\n",
      "Accept: text/xml,application/xml,application/xhtml+xml,text/html;q=0.9,text/plain;q=0.8,image/png,*/*;q=0.5\n",
      "Accept-Encoding: x-gzip, x-deflate, gzip, deflate\n",
      "Accept-Charset: utf-8, utf-8;q=0.5, *;q=0.5\n",
      "Accept-Language: en\n",
      "Host: localhost:8080\n",
      "Cookie: JSESSIONID=F563B5262843F12ECAE41815ABDEEA54\n",
      "Connection: close\n",
      "============================================================\n",
      "POST http://localhost:8080/tienda1/publico/anadir.jsp HTTP/1.1\n",
      "User-Agent: Mozilla/5.0 (compatible; Konqueror/3.5; Linux) KHTML/3.5.8 (like Gecko)\n",
      "Pragma: no-cache\n",
      "Cache-control: no-cache\n",
      "Accept: text/xml,application/xml,application/xhtml+xml,text/html;q=0.9,text/plain;q=0.8,image/png,*/*;q=0.5\n",
      "Accept-Encoding: x-gzip, x-deflate, gzip, deflate\n",
      "Accept-Charset: utf-8, utf-8;q=0.5, *;q=0.5\n",
      "Accept-Language: en\n",
      "Host: localhost:8080\n",
      "Cookie: JSESSIONID=3B654D6DF7F1466EE80D7F756B00E5D1\n",
      "Content-Type: application/x-www-form-urlencoded\n",
      "Connection: close\n",
      "Content-Length: 77\n",
      "\n",
      "id=2%2F&nombre=Jam%F3n+Ib%E9rico&precio=85&cantidad=49&B1=A%F1adir+al+carrito\n"
     ]
    }
   ],
   "source": [
    "print(abnormal_samples[1], end='')\n",
    "print('=' * 60)\n",
    "print(abnormal_samples[2], end='')\n",
    "print('=' * 60)\n",
    "print(abnormal_samples[3], end='')"
   ]
  },
  {
   "cell_type": "code",
   "execution_count": null,
   "metadata": {},
   "outputs": [],
   "source": []
  }
 ],
 "metadata": {
  "kernelspec": {
   "display_name": "Python 3",
   "language": "python",
   "name": "python3"
  },
  "language_info": {
   "codemirror_mode": {
    "name": "ipython",
    "version": 3
   },
   "file_extension": ".py",
   "mimetype": "text/x-python",
   "name": "python",
   "nbconvert_exporter": "python",
   "pygments_lexer": "ipython3",
   "version": "3.6.7"
  }
 },
 "nbformat": 4,
 "nbformat_minor": 2
}
